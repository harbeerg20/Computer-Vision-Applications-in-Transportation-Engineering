{
  "nbformat": 4,
  "nbformat_minor": 0,
  "metadata": {
    "colab": {
      "name": "Assignment_1.ipynb",
      "provenance": []
    },
    "kernelspec": {
      "name": "python3",
      "display_name": "Python 3"
    },
    "language_info": {
      "name": "python"
    }
  },
  "cells": [
    {
      "cell_type": "code",
      "execution_count": 181,
      "metadata": {
        "id": "9F1GoXN14I9w"
      },
      "outputs": [],
      "source": [
        "import numpy as np\n",
        "import pandas as pd\n",
        "import matplotlib.pyplot as plt\n",
        "from sklearn.model_selection import train_test_split"
      ]
    },
    {
      "cell_type": "code",
      "source": [
        "df=pd.read_csv(\"/content/crack_detection.csv\")"
      ],
      "metadata": {
        "id": "IQWLvH7P4VSF"
      },
      "execution_count": 182,
      "outputs": []
    },
    {
      "cell_type": "code",
      "source": [
        "df.head()\n",
        "\n"
      ],
      "metadata": {
        "colab": {
          "base_uri": "https://localhost:8080/",
          "height": 317
        },
        "id": "lpUOO8JB44Xn",
        "outputId": "71dcf34a-0f0e-4a68-d31a-e24ce6d4dd8e"
      },
      "execution_count": 183,
      "outputs": [
        {
          "output_type": "execute_result",
          "data": {
            "text/plain": [
              "   Unnamed: 0    mean_r      std_r     kur_r    skew_r    mean_g      std_g  \\\n",
              "0           0  107.5734  29.267480  0.744029  0.408828  110.2533  26.953218   \n",
              "1           1  178.6713  14.917756  3.192406  0.238175  184.4947  14.882156   \n",
              "2           2  176.6517  34.618255 -0.146336 -0.421552  161.3083  33.688699   \n",
              "3           3  113.5760  20.084502  0.719752  0.737728  114.0056  19.536222   \n",
              "4           4  125.3565  29.251595  0.430344  0.833496  129.5277  28.661968   \n",
              "\n",
              "      kur_g    skew_g    mean_b  ...  contrast_r  contrast_g  contrast_b  \\\n",
              "0  1.254689 -0.135613  113.5715  ...    9.181953       177.0       173.0   \n",
              "1  3.035196  0.141160  190.8538  ...    9.207314       142.0       136.0   \n",
              "2  0.057178 -0.521476  147.2760  ...    9.186737       199.0       200.0   \n",
              "3  0.655846  0.729521  113.6179  ...    9.197973       146.0       142.0   \n",
              "4  0.475502  0.804161  131.9745  ...    9.189257       173.0       176.0   \n",
              "\n",
              "   corr_rg   corr_rb   corr_gb  moment_r     moment_g     moment_b  label  \n",
              "0    162.0  0.951368  0.913876  0.803333   856.585412   726.475939      0  \n",
              "1    129.0  0.988325  0.989474  0.976787   222.539456   221.478572      0  \n",
              "2    194.0  0.968581  0.967398  0.890845  1198.423587  1134.928451      1  \n",
              "3    138.0  0.987383  0.983663  0.961305   403.387224   381.663969      0  \n",
              "4    177.0  0.980727  0.986702  0.950291   855.655808   821.508433      1  \n",
              "\n",
              "[5 rows x 25 columns]"
            ],
            "text/html": [
              "\n",
              "  <div id=\"df-6b088178-65ff-4fc7-9cb9-1014e8c4a627\">\n",
              "    <div class=\"colab-df-container\">\n",
              "      <div>\n",
              "<style scoped>\n",
              "    .dataframe tbody tr th:only-of-type {\n",
              "        vertical-align: middle;\n",
              "    }\n",
              "\n",
              "    .dataframe tbody tr th {\n",
              "        vertical-align: top;\n",
              "    }\n",
              "\n",
              "    .dataframe thead th {\n",
              "        text-align: right;\n",
              "    }\n",
              "</style>\n",
              "<table border=\"1\" class=\"dataframe\">\n",
              "  <thead>\n",
              "    <tr style=\"text-align: right;\">\n",
              "      <th></th>\n",
              "      <th>Unnamed: 0</th>\n",
              "      <th>mean_r</th>\n",
              "      <th>std_r</th>\n",
              "      <th>kur_r</th>\n",
              "      <th>skew_r</th>\n",
              "      <th>mean_g</th>\n",
              "      <th>std_g</th>\n",
              "      <th>kur_g</th>\n",
              "      <th>skew_g</th>\n",
              "      <th>mean_b</th>\n",
              "      <th>...</th>\n",
              "      <th>contrast_r</th>\n",
              "      <th>contrast_g</th>\n",
              "      <th>contrast_b</th>\n",
              "      <th>corr_rg</th>\n",
              "      <th>corr_rb</th>\n",
              "      <th>corr_gb</th>\n",
              "      <th>moment_r</th>\n",
              "      <th>moment_g</th>\n",
              "      <th>moment_b</th>\n",
              "      <th>label</th>\n",
              "    </tr>\n",
              "  </thead>\n",
              "  <tbody>\n",
              "    <tr>\n",
              "      <th>0</th>\n",
              "      <td>0</td>\n",
              "      <td>107.5734</td>\n",
              "      <td>29.267480</td>\n",
              "      <td>0.744029</td>\n",
              "      <td>0.408828</td>\n",
              "      <td>110.2533</td>\n",
              "      <td>26.953218</td>\n",
              "      <td>1.254689</td>\n",
              "      <td>-0.135613</td>\n",
              "      <td>113.5715</td>\n",
              "      <td>...</td>\n",
              "      <td>9.181953</td>\n",
              "      <td>177.0</td>\n",
              "      <td>173.0</td>\n",
              "      <td>162.0</td>\n",
              "      <td>0.951368</td>\n",
              "      <td>0.913876</td>\n",
              "      <td>0.803333</td>\n",
              "      <td>856.585412</td>\n",
              "      <td>726.475939</td>\n",
              "      <td>0</td>\n",
              "    </tr>\n",
              "    <tr>\n",
              "      <th>1</th>\n",
              "      <td>1</td>\n",
              "      <td>178.6713</td>\n",
              "      <td>14.917756</td>\n",
              "      <td>3.192406</td>\n",
              "      <td>0.238175</td>\n",
              "      <td>184.4947</td>\n",
              "      <td>14.882156</td>\n",
              "      <td>3.035196</td>\n",
              "      <td>0.141160</td>\n",
              "      <td>190.8538</td>\n",
              "      <td>...</td>\n",
              "      <td>9.207314</td>\n",
              "      <td>142.0</td>\n",
              "      <td>136.0</td>\n",
              "      <td>129.0</td>\n",
              "      <td>0.988325</td>\n",
              "      <td>0.989474</td>\n",
              "      <td>0.976787</td>\n",
              "      <td>222.539456</td>\n",
              "      <td>221.478572</td>\n",
              "      <td>0</td>\n",
              "    </tr>\n",
              "    <tr>\n",
              "      <th>2</th>\n",
              "      <td>2</td>\n",
              "      <td>176.6517</td>\n",
              "      <td>34.618255</td>\n",
              "      <td>-0.146336</td>\n",
              "      <td>-0.421552</td>\n",
              "      <td>161.3083</td>\n",
              "      <td>33.688699</td>\n",
              "      <td>0.057178</td>\n",
              "      <td>-0.521476</td>\n",
              "      <td>147.2760</td>\n",
              "      <td>...</td>\n",
              "      <td>9.186737</td>\n",
              "      <td>199.0</td>\n",
              "      <td>200.0</td>\n",
              "      <td>194.0</td>\n",
              "      <td>0.968581</td>\n",
              "      <td>0.967398</td>\n",
              "      <td>0.890845</td>\n",
              "      <td>1198.423587</td>\n",
              "      <td>1134.928451</td>\n",
              "      <td>1</td>\n",
              "    </tr>\n",
              "    <tr>\n",
              "      <th>3</th>\n",
              "      <td>3</td>\n",
              "      <td>113.5760</td>\n",
              "      <td>20.084502</td>\n",
              "      <td>0.719752</td>\n",
              "      <td>0.737728</td>\n",
              "      <td>114.0056</td>\n",
              "      <td>19.536222</td>\n",
              "      <td>0.655846</td>\n",
              "      <td>0.729521</td>\n",
              "      <td>113.6179</td>\n",
              "      <td>...</td>\n",
              "      <td>9.197973</td>\n",
              "      <td>146.0</td>\n",
              "      <td>142.0</td>\n",
              "      <td>138.0</td>\n",
              "      <td>0.987383</td>\n",
              "      <td>0.983663</td>\n",
              "      <td>0.961305</td>\n",
              "      <td>403.387224</td>\n",
              "      <td>381.663969</td>\n",
              "      <td>0</td>\n",
              "    </tr>\n",
              "    <tr>\n",
              "      <th>4</th>\n",
              "      <td>4</td>\n",
              "      <td>125.3565</td>\n",
              "      <td>29.251595</td>\n",
              "      <td>0.430344</td>\n",
              "      <td>0.833496</td>\n",
              "      <td>129.5277</td>\n",
              "      <td>28.661968</td>\n",
              "      <td>0.475502</td>\n",
              "      <td>0.804161</td>\n",
              "      <td>131.9745</td>\n",
              "      <td>...</td>\n",
              "      <td>9.189257</td>\n",
              "      <td>173.0</td>\n",
              "      <td>176.0</td>\n",
              "      <td>177.0</td>\n",
              "      <td>0.980727</td>\n",
              "      <td>0.986702</td>\n",
              "      <td>0.950291</td>\n",
              "      <td>855.655808</td>\n",
              "      <td>821.508433</td>\n",
              "      <td>1</td>\n",
              "    </tr>\n",
              "  </tbody>\n",
              "</table>\n",
              "<p>5 rows × 25 columns</p>\n",
              "</div>\n",
              "      <button class=\"colab-df-convert\" onclick=\"convertToInteractive('df-6b088178-65ff-4fc7-9cb9-1014e8c4a627')\"\n",
              "              title=\"Convert this dataframe to an interactive table.\"\n",
              "              style=\"display:none;\">\n",
              "        \n",
              "  <svg xmlns=\"http://www.w3.org/2000/svg\" height=\"24px\"viewBox=\"0 0 24 24\"\n",
              "       width=\"24px\">\n",
              "    <path d=\"M0 0h24v24H0V0z\" fill=\"none\"/>\n",
              "    <path d=\"M18.56 5.44l.94 2.06.94-2.06 2.06-.94-2.06-.94-.94-2.06-.94 2.06-2.06.94zm-11 1L8.5 8.5l.94-2.06 2.06-.94-2.06-.94L8.5 2.5l-.94 2.06-2.06.94zm10 10l.94 2.06.94-2.06 2.06-.94-2.06-.94-.94-2.06-.94 2.06-2.06.94z\"/><path d=\"M17.41 7.96l-1.37-1.37c-.4-.4-.92-.59-1.43-.59-.52 0-1.04.2-1.43.59L10.3 9.45l-7.72 7.72c-.78.78-.78 2.05 0 2.83L4 21.41c.39.39.9.59 1.41.59.51 0 1.02-.2 1.41-.59l7.78-7.78 2.81-2.81c.8-.78.8-2.07 0-2.86zM5.41 20L4 18.59l7.72-7.72 1.47 1.35L5.41 20z\"/>\n",
              "  </svg>\n",
              "      </button>\n",
              "      \n",
              "  <style>\n",
              "    .colab-df-container {\n",
              "      display:flex;\n",
              "      flex-wrap:wrap;\n",
              "      gap: 12px;\n",
              "    }\n",
              "\n",
              "    .colab-df-convert {\n",
              "      background-color: #E8F0FE;\n",
              "      border: none;\n",
              "      border-radius: 50%;\n",
              "      cursor: pointer;\n",
              "      display: none;\n",
              "      fill: #1967D2;\n",
              "      height: 32px;\n",
              "      padding: 0 0 0 0;\n",
              "      width: 32px;\n",
              "    }\n",
              "\n",
              "    .colab-df-convert:hover {\n",
              "      background-color: #E2EBFA;\n",
              "      box-shadow: 0px 1px 2px rgba(60, 64, 67, 0.3), 0px 1px 3px 1px rgba(60, 64, 67, 0.15);\n",
              "      fill: #174EA6;\n",
              "    }\n",
              "\n",
              "    [theme=dark] .colab-df-convert {\n",
              "      background-color: #3B4455;\n",
              "      fill: #D2E3FC;\n",
              "    }\n",
              "\n",
              "    [theme=dark] .colab-df-convert:hover {\n",
              "      background-color: #434B5C;\n",
              "      box-shadow: 0px 1px 3px 1px rgba(0, 0, 0, 0.15);\n",
              "      filter: drop-shadow(0px 1px 2px rgba(0, 0, 0, 0.3));\n",
              "      fill: #FFFFFF;\n",
              "    }\n",
              "  </style>\n",
              "\n",
              "      <script>\n",
              "        const buttonEl =\n",
              "          document.querySelector('#df-6b088178-65ff-4fc7-9cb9-1014e8c4a627 button.colab-df-convert');\n",
              "        buttonEl.style.display =\n",
              "          google.colab.kernel.accessAllowed ? 'block' : 'none';\n",
              "\n",
              "        async function convertToInteractive(key) {\n",
              "          const element = document.querySelector('#df-6b088178-65ff-4fc7-9cb9-1014e8c4a627');\n",
              "          const dataTable =\n",
              "            await google.colab.kernel.invokeFunction('convertToInteractive',\n",
              "                                                     [key], {});\n",
              "          if (!dataTable) return;\n",
              "\n",
              "          const docLinkHtml = 'Like what you see? Visit the ' +\n",
              "            '<a target=\"_blank\" href=https://colab.research.google.com/notebooks/data_table.ipynb>data table notebook</a>'\n",
              "            + ' to learn more about interactive tables.';\n",
              "          element.innerHTML = '';\n",
              "          dataTable['output_type'] = 'display_data';\n",
              "          await google.colab.output.renderOutput(dataTable, element);\n",
              "          const docLink = document.createElement('div');\n",
              "          docLink.innerHTML = docLinkHtml;\n",
              "          element.appendChild(docLink);\n",
              "        }\n",
              "      </script>\n",
              "    </div>\n",
              "  </div>\n",
              "  "
            ]
          },
          "metadata": {},
          "execution_count": 183
        }
      ]
    },
    {
      "cell_type": "code",
      "source": [
        "df.drop(\"Unnamed: 0\",axis=1,inplace=True)"
      ],
      "metadata": {
        "id": "U0ns7u_DGp6q"
      },
      "execution_count": 184,
      "outputs": []
    },
    {
      "cell_type": "code",
      "source": [
        "df.info()"
      ],
      "metadata": {
        "colab": {
          "base_uri": "https://localhost:8080/"
        },
        "id": "b633AEXQ6F6h",
        "outputId": "54c52a34-17ce-4646-aaa7-cc0e2bf23dd6"
      },
      "execution_count": 185,
      "outputs": [
        {
          "output_type": "stream",
          "name": "stdout",
          "text": [
            "<class 'pandas.core.frame.DataFrame'>\n",
            "RangeIndex: 700 entries, 0 to 699\n",
            "Data columns (total 24 columns):\n",
            " #   Column      Non-Null Count  Dtype  \n",
            "---  ------      --------------  -----  \n",
            " 0   mean_r      700 non-null    float64\n",
            " 1   std_r       700 non-null    float64\n",
            " 2   kur_r       700 non-null    float64\n",
            " 3   skew_r      700 non-null    float64\n",
            " 4   mean_g      700 non-null    float64\n",
            " 5   std_g       700 non-null    float64\n",
            " 6   kur_g       700 non-null    float64\n",
            " 7   skew_g      700 non-null    float64\n",
            " 8   mean_b      700 non-null    float64\n",
            " 9   std_b       700 non-null    float64\n",
            " 10  kur_b       700 non-null    float64\n",
            " 11  skew_b      700 non-null    float64\n",
            " 12  entropy_r   700 non-null    float64\n",
            " 13  entropy_g   700 non-null    float64\n",
            " 14  contrast_r  700 non-null    float64\n",
            " 15  contrast_g  700 non-null    float64\n",
            " 16  contrast_b  700 non-null    float64\n",
            " 17  corr_rg     700 non-null    float64\n",
            " 18  corr_rb     700 non-null    float64\n",
            " 19  corr_gb     700 non-null    float64\n",
            " 20  moment_r    700 non-null    float64\n",
            " 21  moment_g    700 non-null    float64\n",
            " 22  moment_b    700 non-null    float64\n",
            " 23  label       700 non-null    int64  \n",
            "dtypes: float64(23), int64(1)\n",
            "memory usage: 131.4 KB\n"
          ]
        }
      ]
    },
    {
      "cell_type": "code",
      "source": [
        "df.shape"
      ],
      "metadata": {
        "colab": {
          "base_uri": "https://localhost:8080/"
        },
        "id": "1eLWXDSq6ZCb",
        "outputId": "77ee9a06-0035-4e5c-abf7-59cd31ef7812"
      },
      "execution_count": 186,
      "outputs": [
        {
          "output_type": "execute_result",
          "data": {
            "text/plain": [
              "(700, 24)"
            ]
          },
          "metadata": {},
          "execution_count": 186
        }
      ]
    },
    {
      "cell_type": "code",
      "source": [
        "X=df.iloc[:,:-1].values\n",
        "Y=df.iloc[:,-1].values\n",
        "X"
      ],
      "metadata": {
        "colab": {
          "base_uri": "https://localhost:8080/"
        },
        "id": "BTTdbS9M6tAP",
        "outputId": "3617e42d-86d5-4226-b265-de337971a415"
      },
      "execution_count": 187,
      "outputs": [
        {
          "output_type": "execute_result",
          "data": {
            "text/plain": [
              "array([[ 1.07573400e+02,  2.92674805e+01,  7.44029186e-01, ...,\n",
              "         8.03332866e-01,  8.56585412e+02,  7.26475939e+02],\n",
              "       [ 1.78671300e+02,  1.49177564e+01,  3.19240584e+00, ...,\n",
              "         9.76786549e-01,  2.22539456e+02,  2.21478572e+02],\n",
              "       [ 1.76651700e+02,  3.46182551e+01, -1.46336480e-01, ...,\n",
              "         8.90845444e-01,  1.19842359e+03,  1.13492845e+03],\n",
              "       ...,\n",
              "       [ 1.24909800e+02,  2.44108268e+01, -1.49036231e-02, ...,\n",
              "         9.53481555e-01,  5.95888464e+02,  5.60551032e+02],\n",
              "       [ 1.00536600e+02,  4.11079075e+01, -3.85691793e-01, ...,\n",
              "         9.94055757e-01,  1.68986006e+03,  1.66755305e+03],\n",
              "       [ 1.38075900e+02,  6.62701586e+00,  2.33907177e+00, ...,\n",
              "         9.26411883e-01,  4.39173392e+01,  4.00524098e+01]])"
            ]
          },
          "metadata": {},
          "execution_count": 187
        }
      ]
    },
    {
      "cell_type": "code",
      "source": [
        "X = X/np.linalg.norm(X, axis=-1)[:, np.newaxis]"
      ],
      "metadata": {
        "id": "g-zx3YNA7HUH"
      },
      "execution_count": 188,
      "outputs": []
    },
    {
      "cell_type": "code",
      "source": [
        "X"
      ],
      "metadata": {
        "colab": {
          "base_uri": "https://localhost:8080/"
        },
        "id": "iStPP_Py78J_",
        "outputId": "e037ac61-9c8a-4feb-f8b3-78dbb27f6b01"
      },
      "execution_count": 189,
      "outputs": [
        {
          "output_type": "execute_result",
          "data": {
            "text/plain": [
              "array([[ 9.13041656e-02,  2.48411120e-02,  6.31503365e-04, ...,\n",
              "         6.81838048e-04,  7.27036761e-01,  6.16604843e-01],\n",
              "       [ 3.52297514e-01,  2.94142848e-02,  6.29466870e-03, ...,\n",
              "         1.92599188e-03,  4.38795135e-01,  4.36703322e-01],\n",
              "       [ 1.03307303e-01,  2.02450278e-02, -8.55787240e-05, ...,\n",
              "         5.20973419e-04,  7.00847535e-01,  6.63715081e-01],\n",
              "       ...,\n",
              "       [ 1.40830129e-01,  2.75220991e-02, -1.68031585e-05, ...,\n",
              "         1.07500717e-03,  6.71837194e-01,  6.31995843e-01],\n",
              "       [ 4.16365534e-02,  1.70245621e-02, -1.59731649e-04, ...,\n",
              "         4.11681474e-04,  6.99844123e-01,  6.90605825e-01],\n",
              "       [ 4.69688374e-01,  2.25429080e-02,  7.95674563e-03, ...,\n",
              "         3.15134568e-03,  1.49392208e-01,  1.36245002e-01]])"
            ]
          },
          "metadata": {},
          "execution_count": 189
        }
      ]
    },
    {
      "cell_type": "code",
      "source": [
        "X.shape,Y.shape"
      ],
      "metadata": {
        "colab": {
          "base_uri": "https://localhost:8080/"
        },
        "id": "b6NBWZdJ79PG",
        "outputId": "06e976e9-30e8-4ef2-f193-775a73d396bd"
      },
      "execution_count": 190,
      "outputs": [
        {
          "output_type": "execute_result",
          "data": {
            "text/plain": [
              "((700, 23), (700,))"
            ]
          },
          "metadata": {},
          "execution_count": 190
        }
      ]
    },
    {
      "cell_type": "code",
      "source": [
        "X, X_test, Y, y_test = train_test_split(X, Y, test_size=0.2, random_state=50)"
      ],
      "metadata": {
        "id": "xkRf-Zrt8mfL"
      },
      "execution_count": 191,
      "outputs": []
    },
    {
      "cell_type": "code",
      "source": [
        "X_train, X_val, y_train, y_val = train_test_split(X, Y, test_size=0.25, random_state=50)"
      ],
      "metadata": {
        "id": "LbgsV8_MVFZg"
      },
      "execution_count": 192,
      "outputs": []
    },
    {
      "cell_type": "code",
      "source": [
        "X_train.shape,X_test.shape,X_val.shape"
      ],
      "metadata": {
        "colab": {
          "base_uri": "https://localhost:8080/"
        },
        "id": "5qIRRYrM828D",
        "outputId": "c259800c-555f-4582-a0d7-f15d56a45419"
      },
      "execution_count": 193,
      "outputs": [
        {
          "output_type": "execute_result",
          "data": {
            "text/plain": [
              "((420, 23), (140, 23), (140, 23))"
            ]
          },
          "metadata": {},
          "execution_count": 193
        }
      ]
    },
    {
      "cell_type": "code",
      "source": [
        "def sigmoid(y):\n",
        "  return 1/(1+np.exp(-y))"
      ],
      "metadata": {
        "id": "VYSw-and89dI"
      },
      "execution_count": 194,
      "outputs": []
    },
    {
      "cell_type": "code",
      "source": [
        "def forward(x,w,b):\n",
        "  y_hat=sigmoid(np.dot(x,w)+b)\n",
        "  return y_hat"
      ],
      "metadata": {
        "id": "NYEu7x2L9OF1"
      },
      "execution_count": 195,
      "outputs": []
    },
    {
      "cell_type": "code",
      "source": [
        "def loss_func(y_hat,y):\n",
        "  return np.mean(-y*np.log(y_hat)-(1-y)*np.log(1-y_hat))"
      ],
      "metadata": {
        "id": "CmZYJqxp-cQn"
      },
      "execution_count": 196,
      "outputs": []
    },
    {
      "cell_type": "code",
      "source": [
        "def gradient(x,y,w,b):\n",
        "  y_hat=forward(x,w,b)\n",
        "  dw=np.mean(np.dot((y_hat-y),x))\n",
        "  db=np.mean(y_hat-y)\n",
        "  return dw,db"
      ],
      "metadata": {
        "id": "poj4oVHN-0IO"
      },
      "execution_count": 197,
      "outputs": []
    },
    {
      "cell_type": "code",
      "source": [
        "n,m=X.shape\n",
        "n,m"
      ],
      "metadata": {
        "colab": {
          "base_uri": "https://localhost:8080/"
        },
        "id": "C7rSzRkj_6Nu",
        "outputId": "bce0b55f-c618-4214-f527-a13c11f35869"
      },
      "execution_count": 198,
      "outputs": [
        {
          "output_type": "execute_result",
          "data": {
            "text/plain": [
              "(560, 23)"
            ]
          },
          "metadata": {},
          "execution_count": 198
        }
      ]
    },
    {
      "cell_type": "code",
      "source": [
        "w=np.random.randn((m))\n",
        "b=np.random.randn((1))\n",
        "w.shape,b.shape"
      ],
      "metadata": {
        "colab": {
          "base_uri": "https://localhost:8080/"
        },
        "id": "IaheqyW7AgLN",
        "outputId": "ec04da24-23ac-4f43-fb6d-e1f62c502e6d"
      },
      "execution_count": 199,
      "outputs": [
        {
          "output_type": "execute_result",
          "data": {
            "text/plain": [
              "((23,), (1,))"
            ]
          },
          "metadata": {},
          "execution_count": 199
        }
      ]
    },
    {
      "cell_type": "code",
      "source": [
        "epochs =10000\n",
        "lr=0.03"
      ],
      "metadata": {
        "id": "APXhe-__Ang8"
      },
      "execution_count": 200,
      "outputs": []
    },
    {
      "cell_type": "code",
      "source": [
        "train_losses=[]\n",
        "val_losses=[]\n",
        "for epoch in range(epochs):\n",
        "  train_y_hat=forward(X_train,w,b)\n",
        "  val_y_hat=forward(X_val,w,b)\n",
        "  train_loss=loss_func(train_y_hat,y_train)\n",
        "  val_loss=loss_func(val_y_hat,y_val)\n",
        "  dw,db=gradient(X_train,y_train,w,b)\n",
        "  w-=lr*dw\n",
        "  b-=lr*db\n",
        "  train_losses.append(train_loss)\n",
        "  val_losses.append(val_loss)\n",
        "  if(epoch%1000==0):\n",
        "    print(f\"Epoch {epoch}: Training Loss : {train_loss}, Validation Loss : {val_loss}\")\n",
        "  "
      ],
      "metadata": {
        "colab": {
          "base_uri": "https://localhost:8080/"
        },
        "id": "igfv5noPBo_u",
        "outputId": "5f8a687a-0adc-4254-d22c-fe689a2b3916"
      },
      "execution_count": 201,
      "outputs": [
        {
          "output_type": "stream",
          "name": "stdout",
          "text": [
            "Epoch 0: Training Loss : 1.4484743842039534, Validation Loss : 1.3473875057124136\n",
            "Epoch 1000: Training Loss : 0.7178068416284259, Validation Loss : 0.7186084157464574\n",
            "Epoch 2000: Training Loss : 0.671404491980915, Validation Loss : 0.6659474828872037\n",
            "Epoch 3000: Training Loss : 0.6388413291454444, Validation Loss : 0.6287586296147077\n",
            "Epoch 4000: Training Loss : 0.6157267307108782, Validation Loss : 0.6021826396679636\n",
            "Epoch 5000: Training Loss : 0.5990678477936185, Validation Loss : 0.5829015854177352\n",
            "Epoch 6000: Training Loss : 0.5868685802252523, Validation Loss : 0.5686908090642033\n",
            "Epoch 7000: Training Loss : 0.5777978893462107, Validation Loss : 0.5580574838580187\n",
            "Epoch 8000: Training Loss : 0.5709588674149345, Validation Loss : 0.5499894747814675\n",
            "Epoch 9000: Training Loss : 0.5657378941388942, Validation Loss : 0.5437904550934357\n"
          ]
        }
      ]
    },
    {
      "cell_type": "code",
      "source": [
        "print(w,b)"
      ],
      "metadata": {
        "colab": {
          "base_uri": "https://localhost:8080/"
        },
        "id": "0gWHXVGnQmTN",
        "outputId": "c76ced2a-0a09-4e78-c393-7604e7b20b2e"
      },
      "execution_count": 202,
      "outputs": [
        {
          "output_type": "stream",
          "name": "stdout",
          "text": [
            "[-2.79845992 -3.1220437  -3.07346834 -0.50876977 -3.40622878 -2.83585381\n",
            " -3.51387554 -2.05185412 -1.23739816 -1.2380881  -1.58492799 -3.23611568\n",
            " -1.71738189 -1.01065564 -1.8989625  -2.35303312 -1.22808068 -3.7189295\n",
            " -1.96433094 -3.42157148 -3.61667191 -3.41325657 -1.13322492] [5.27917816]\n"
          ]
        }
      ]
    },
    {
      "cell_type": "code",
      "source": [
        "y_pred_train=forward(X_train,w,b)\n",
        "y_pred_train = np.where(y_pred_train>0.5,1,0)\n",
        "y_pred_val=forward(X_val,w,b)\n",
        "y_pred_val = np.where(y_pred_val>0.5,1,0)\n",
        "y_pred_test=forward(X_test,w,b)\n",
        "y_pred_test = np.where(y_pred_test>0.5,1,0)"
      ],
      "metadata": {
        "id": "4JEprEnzBtwT"
      },
      "execution_count": 203,
      "outputs": []
    },
    {
      "cell_type": "code",
      "source": [
        "tp_test=np.sum(y_pred_test==y_test)\n",
        "tp_fp_test=tp_test\n",
        "tp_fn_test=tp_test\n",
        "for i in range(y_test.shape[0]):\n",
        "  if (y_pred_test[i]==0 and y_test[i]==1):\n",
        "    tp_fn_test+=1\n",
        "  if (y_pred_test[i]==1 and y_test[i]==0):\n",
        "    tp_fp_test+=1\n",
        "precision_test=tp_test/tp_fp_test\n",
        "recall_test=tp_test/tp_fn_test\n",
        "f1_score_test=2*precision_test*recall_test/(precision_test+recall_test)\n",
        "print(f\"TESTING : PRECISION {precision_test}, RECALL {recall_test}, F1 SCORE {f1_score_test}\")"
      ],
      "metadata": {
        "colab": {
          "base_uri": "https://localhost:8080/"
        },
        "id": "v3RVoW89E5Hj",
        "outputId": "fc3f5783-c1a6-4919-c093-8e207e28e565"
      },
      "execution_count": 204,
      "outputs": [
        {
          "output_type": "stream",
          "name": "stdout",
          "text": [
            "TESTING : PRECISION 0.7878787878787878, RECALL 0.9285714285714286, F1 SCORE 0.8524590163934426\n"
          ]
        }
      ]
    },
    {
      "cell_type": "code",
      "source": [
        "tp_train=np.sum(y_pred_train==y_train)\n",
        "tp_fp_train=tp_train\n",
        "tp_fn_train=tp_train\n",
        "for i in range(y_train.shape[0]):\n",
        "  if (y_pred_train[i]==0 and y_train[i]==1):\n",
        "    tp_fn_train+=1\n",
        "  if (y_pred_train[i]==1 and y_train[i]==0):\n",
        "    tp_fp_train+=1\n",
        "precision_train=tp_train/tp_fp_train\n",
        "recall_train=tp_train/tp_fn_train\n",
        "f1_score_train=2*precision_train*recall_train/(precision_train+recall_train)\n",
        "print(f\"TRAINING : PRECISION {precision_train}, RECALL {recall_train}, F1 SCORE {f1_score_train}\")"
      ],
      "metadata": {
        "colab": {
          "base_uri": "https://localhost:8080/"
        },
        "id": "8aD_P061h98X",
        "outputId": "98265f3f-7ceb-483f-cc05-42225788f6e5"
      },
      "execution_count": 205,
      "outputs": [
        {
          "output_type": "stream",
          "name": "stdout",
          "text": [
            "TRAINING : PRECISION 0.7926509186351706, RECALL 0.8856304985337243, F1 SCORE 0.8365650969529086\n"
          ]
        }
      ]
    },
    {
      "cell_type": "code",
      "source": [
        "tp_val=np.sum(y_pred_val==y_val)\n",
        "tp_fp_val=tp_val\n",
        "tp_fn_val=tp_val\n",
        "for i in range(y_val.shape[0]):\n",
        "  if (y_pred_val[i]==0 and y_val[i]==1):\n",
        "    tp_fn_val+=1\n",
        "  if (y_pred_val[i]==1 and y_val[i]==0):\n",
        "    tp_fp_val+=1\n",
        "precision_val=tp_val/tp_fp_val\n",
        "recall_val=tp_val/tp_fn_val\n",
        "f1_score_val=2*precision_val*recall_val/(precision_val+recall_val)\n",
        "print(f\"VALIDATION : PRECISION {precision_val}, RECALL {recall_val}, F1 SCORE {f1_score_val}\")"
      ],
      "metadata": {
        "colab": {
          "base_uri": "https://localhost:8080/"
        },
        "id": "3Ptqdce4k8lr",
        "outputId": "f2b22c5c-c1da-4ba3-f780-ff0bd6696645"
      },
      "execution_count": 206,
      "outputs": [
        {
          "output_type": "stream",
          "name": "stdout",
          "text": [
            "VALIDATION : PRECISION 0.8031496062992126, RECALL 0.8869565217391304, F1 SCORE 0.8429752066115702\n"
          ]
        }
      ]
    },
    {
      "cell_type": "code",
      "source": [
        "accuracy_test=tp_test/y_test.shape[0]\n",
        "accuracy_test=accuracy_test*100"
      ],
      "metadata": {
        "id": "d2ptVh_xFqpu"
      },
      "execution_count": 207,
      "outputs": []
    },
    {
      "cell_type": "code",
      "source": [
        "accuracy_train=tp_train/y_train.shape[0]\n",
        "accuracy_train=accuracy_train*100"
      ],
      "metadata": {
        "id": "f3zzUDDrbdGc"
      },
      "execution_count": 208,
      "outputs": []
    },
    {
      "cell_type": "code",
      "source": [
        "accuracy_val=tp_val/y_val.shape[0]\n",
        "accuracy_val=accuracy_val*100"
      ],
      "metadata": {
        "id": "M3-l-wu5bdDy"
      },
      "execution_count": 209,
      "outputs": []
    },
    {
      "cell_type": "code",
      "source": [
        "print(\"Training Accuracy : {:.2f}%\\nValidation Accuracy : {:.2f}%\\nTesting Accuracy : {:.2f}%\".format(accuracy_train,accuracy_val,accuracy_test))"
      ],
      "metadata": {
        "colab": {
          "base_uri": "https://localhost:8080/"
        },
        "id": "MT0L5qpmbdBL",
        "outputId": "e43a200a-a1c3-4ab3-f497-961d20d50adc"
      },
      "execution_count": 210,
      "outputs": [
        {
          "output_type": "stream",
          "name": "stdout",
          "text": [
            "Training Accuracy : 71.90%\n",
            "Validation Accuracy : 72.86%\n",
            "Testing Accuracy : 74.29%\n"
          ]
        }
      ]
    },
    {
      "cell_type": "code",
      "source": [
        "print(f\"TRAINING : PRECISION {precision_train}, RECALL {recall_train}, F1 SCORE {f1_score_train}\")\n",
        "print(f\"VALIDATION : PRECISION {precision_val}, RECALL {recall_val}, F1 SCORE {f1_score_val}\")\n",
        "print(f\"TESTING : PRECISION {precision_test}, RECALL {recall_test}, F1 SCORE {f1_score_test}\")"
      ],
      "metadata": {
        "colab": {
          "base_uri": "https://localhost:8080/"
        },
        "id": "cAFCWb-1nx_2",
        "outputId": "eff93396-f7b4-4bd3-df22-bdf6979e47c3"
      },
      "execution_count": 211,
      "outputs": [
        {
          "output_type": "stream",
          "name": "stdout",
          "text": [
            "TRAINING : PRECISION 0.7926509186351706, RECALL 0.8856304985337243, F1 SCORE 0.8365650969529086\n",
            "VALIDATION : PRECISION 0.8031496062992126, RECALL 0.8869565217391304, F1 SCORE 0.8429752066115702\n",
            "TESTING : PRECISION 0.7878787878787878, RECALL 0.9285714285714286, F1 SCORE 0.8524590163934426\n"
          ]
        }
      ]
    }
  ]
}